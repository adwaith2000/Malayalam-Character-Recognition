{
 "cells": [
  {
   "cell_type": "code",
   "execution_count": 1,
   "metadata": {},
   "outputs": [
    {
     "name": "stderr",
     "output_type": "stream",
     "text": [
      "Using Theano backend.\n"
     ]
    },
    {
     "name": "stdout",
     "output_type": "stream",
     "text": [
      "Importing Jupyter notebook from Train_Dataset_Generation.ipynb\n",
      "Importing Jupyter notebook from Dataset_Preparation.ipynb\n"
     ]
    }
   ],
   "source": [
    "from keras.models import Sequential\n",
    "from keras.layers.core import Flatten, Dense, Dropout\n",
    "from keras.layers.convolutional import Conv2D, MaxPooling2D, ZeroPadding2D\n",
    "from keras.optimizers import SGD\n",
    "from keras.models import load_model\n",
    "from keras import backend as K\n",
    "import numpy as np\n",
    "import nbimporter\n",
    "from Train_Dataset_Generation import *"
   ]
  },
  {
   "cell_type": "markdown",
   "metadata": {},
   "source": [
    "### Hyperparameters"
   ]
  },
  {
   "cell_type": "code",
   "execution_count": 11,
   "metadata": {
    "collapsed": true
   },
   "outputs": [],
   "source": [
    "n_classes = 133\n",
    "n_rows = 32\n",
    "n_cols = 32\n",
    "batch_size = 16\n",
    "epochs = 1\n",
    "learning_rate = 0.1\n",
    "decay = 1e-6\n",
    "momentum = .9"
   ]
  },
  {
   "cell_type": "markdown",
   "metadata": {},
   "source": [
    "### Creating The Model"
   ]
  },
  {
   "cell_type": "code",
   "execution_count": 12,
   "metadata": {
    "collapsed": true
   },
   "outputs": [],
   "source": [
    "def create_model():\n",
    "    # conv-conv-pool ==> conv-conv-pool ==> dense ==>dense\n",
    "    print('Building Model..')\n",
    "    model = Sequential()\n",
    "    \n",
    "    model.add(Conv2D(32,(3,3),input_shape=(n_rows,n_cols,1),activation='relu'))\n",
    "    model.add(ZeroPadding2D((1,1)))\n",
    "    model.add(Conv2D(64,(3,3),activation='relu'))\n",
    "    \n",
    "    model.add(MaxPooling2D((2,2),strides=(2,2)))\n",
    "    model.add(ZeroPadding2D((1,1)))\n",
    "\n",
    "    model.add(Conv2D(64,(3,3),activation='relu'))\n",
    "    model.add(ZeroPadding2D((1,1)))\n",
    "    model.add(Conv2D(64,(3,3),activation='relu')) \n",
    "    \n",
    "    model.add(MaxPooling2D((2,2),strides=(2,2)))\n",
    "    \n",
    "    model.add(Flatten())\n",
    "    \n",
    "    model.add(Dense(2018, activation='relu'))\n",
    "    model.add(Dropout(0.5))\n",
    "    \n",
    "    model.add(Dense(512, activation='relu'))\n",
    "    model.add(Dropout(0.5))\n",
    "    \n",
    "    model.add(Dense(n_classes, activation='softmax'))\n",
    "    \n",
    "    sgd = SGD(lr = learning_rate, decay = decay, momentum = momentum,nesterov=True)\n",
    "    model.compile(optimizer = sgd, loss='categorical_crossentropy',metrics=['accuracy'])\n",
    "    \n",
    "    print('Model Generated')\n",
    "    \n",
    "    return model"
   ]
  },
  {
   "cell_type": "code",
   "execution_count": 13,
   "metadata": {
    "collapsed": true
   },
   "outputs": [],
   "source": [
    "def trainCNN(X_train,y_train):\n",
    "    \n",
    "    model = create_model()\n",
    "    print('Training Started . Please Wait ......')\n",
    "    model.fit(X_train, y_train, epochs = epochs, batch_size = batch_size, verbose = 1)\n",
    "    print('Training Completed')\n",
    "    \n",
    "    return model"
   ]
  },
  {
   "cell_type": "code",
   "execution_count": 14,
   "metadata": {
    "collapsed": true
   },
   "outputs": [],
   "source": [
    "def saveWeights(model,name):\n",
    "    model.save('Models/'+name+'.h5')\n",
    "    print('Model Saved to Models/'+name+'.h5')"
   ]
  },
  {
   "cell_type": "code",
   "execution_count": 15,
   "metadata": {
    "collapsed": true
   },
   "outputs": [],
   "source": [
    "def loadSavedWeight(name):\n",
    "    model = load_model('Models/'+name+'.h5')\n",
    "    return model"
   ]
  },
  {
   "cell_type": "code",
   "execution_count": 16,
   "metadata": {
    "collapsed": true
   },
   "outputs": [],
   "source": [
    "def MalayalamCharacterRecognition():\n",
    "    \n",
    "    X_train,X_test,y_train,y_test = mal_char_data()\n",
    "    print('Loaded Dataset')\n",
    "    \n",
    "    model = trainCNN(X_train,y_train)\n",
    "    \n",
    "    saveWeight(model,\"train1\")\n",
    "    \n",
    "    return model"
   ]
  },
  {
   "cell_type": "code",
   "execution_count": null,
   "metadata": {},
   "outputs": [
    {
     "name": "stdout",
     "output_type": "stream",
     "text": [
      "Loaded Dataset\n",
      "Building Model..\n",
      "Model Generated\n",
      "Training Started . Please Wait ......\n",
      "Epoch 1/1\n",
      "12272/27642 [============>.................] - ETA: 278s - loss: 4.6260 - acc: 0.0160"
     ]
    }
   ],
   "source": [
    "model = MalayalamCharacterRecognition()"
   ]
  },
  {
   "cell_type": "code",
   "execution_count": null,
   "metadata": {
    "collapsed": true
   },
   "outputs": [],
   "source": []
  }
 ],
 "metadata": {
  "kernelspec": {
   "display_name": "Python 2",
   "language": "python",
   "name": "python2"
  },
  "language_info": {
   "codemirror_mode": {
    "name": "ipython",
    "version": 2
   },
   "file_extension": ".py",
   "mimetype": "text/x-python",
   "name": "python",
   "nbconvert_exporter": "python",
   "pygments_lexer": "ipython2",
   "version": "2.7.13"
  }
 },
 "nbformat": 4,
 "nbformat_minor": 2
}
