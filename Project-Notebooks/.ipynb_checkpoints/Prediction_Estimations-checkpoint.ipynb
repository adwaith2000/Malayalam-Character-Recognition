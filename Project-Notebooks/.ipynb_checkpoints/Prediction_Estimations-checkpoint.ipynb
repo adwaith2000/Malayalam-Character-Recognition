{
 "cells": [
  {
   "cell_type": "code",
   "execution_count": 3,
   "metadata": {
    "collapsed": true
   },
   "outputs": [],
   "source": [
    "# -*- coding: utf-8 -*-"
   ]
  },
  {
   "cell_type": "code",
   "execution_count": 4,
   "metadata": {},
   "outputs": [],
   "source": [
    "import nbimporter\n",
    "from CNN_Model import *\n",
    "from keras.models import load_model\n",
    "import numpy as np\n",
    "from keras.preprocessing import image\n",
    "from keras.applications import imagenet_utils"
   ]
  },
  {
   "cell_type": "code",
   "execution_count": 5,
   "metadata": {
    "collapsed": true
   },
   "outputs": [],
   "source": [
    "import matplotlib.pyplot as plt\n",
    "from PIL import Image"
   ]
  },
  {
   "cell_type": "code",
   "execution_count": 6,
   "metadata": {
    "collapsed": true
   },
   "outputs": [],
   "source": [
    "n_classes =  133\n",
    "n_rows = 32\n",
    "n_cols = 32\n",
    "%matplotlib inline"
   ]
  },
  {
   "cell_type": "code",
   "execution_count": 7,
   "metadata": {
    "collapsed": true
   },
   "outputs": [],
   "source": [
    "def predictY(model,X_test):\n",
    "    X_test = X_test.reshape(X_test.shape[0],n_rows,n_cols,1)\n",
    "    predictions = model.predict(X_test,batch_size = 50,verbose =1 )\n",
    "    return np.array(predictions)"
   ]
  },
  {
   "cell_type": "code",
   "execution_count": 9,
   "metadata": {},
   "outputs": [
    {
     "name": "stderr",
     "output_type": "stream",
     "text": [
      "/usr/lib/python2.7/site-packages/keras/models.py:287: UserWarning: Error in loading the saved optimizer state. As a result, your model is starting with a freshly initialized optimizer.\n",
      "  warnings.warn('Error in loading the saved optimizer '\n"
     ]
    }
   ],
   "source": [
    "model = load_model(\"/home/amrith/Machine-Learning/MalayalamOCR/Successful-Models/train2_97.h5\")"
   ]
  },
  {
   "cell_type": "code",
   "execution_count": 10,
   "metadata": {
    "collapsed": true
   },
   "outputs": [],
   "source": [
    "X_train,X_test,y_train,y_test = mal_char_data()"
   ]
  },
  {
   "cell_type": "code",
   "execution_count": 11,
   "metadata": {},
   "outputs": [
    {
     "name": "stdout",
     "output_type": "stream",
     "text": [
      "8644/8644 [==============================] - 58s    \n"
     ]
    }
   ],
   "source": [
    "predictions = predictY(model,X_test)"
   ]
  },
  {
   "cell_type": "code",
   "execution_count": 12,
   "metadata": {},
   "outputs": [
    {
     "data": {
      "text/plain": [
       "(8644, 133)"
      ]
     },
     "execution_count": 12,
     "metadata": {},
     "output_type": "execute_result"
    }
   ],
   "source": [
    "predictions.shape"
   ]
  },
  {
   "cell_type": "code",
   "execution_count": 13,
   "metadata": {
    "collapsed": true
   },
   "outputs": [],
   "source": [
    "predicted_classes = [np.argmax(x) for x in predictions]"
   ]
  },
  {
   "cell_type": "code",
   "execution_count": 14,
   "metadata": {
    "collapsed": true
   },
   "outputs": [],
   "source": [
    "encoder = preprocessing.LabelEncoder()\n",
    "X_train,X_test,y_train,y_test = loadDatasetFromFile()"
   ]
  },
  {
   "cell_type": "code",
   "execution_count": 15,
   "metadata": {},
   "outputs": [
    {
     "data": {
      "text/plain": [
       "LabelEncoder()"
      ]
     },
     "execution_count": 15,
     "metadata": {},
     "output_type": "execute_result"
    }
   ],
   "source": [
    "encoder.fit(y_train)"
   ]
  },
  {
   "cell_type": "code",
   "execution_count": 16,
   "metadata": {
    "collapsed": true
   },
   "outputs": [],
   "source": [
    "classList = np.asarray(encoder.classes_)"
   ]
  },
  {
   "cell_type": "code",
   "execution_count": 17,
   "metadata": {},
   "outputs": [
    {
     "data": {
      "text/plain": [
       "array([\"'\", \"'2\", '(', ')', '+', '-', '0', '1', '2', '3', '4', '5', '6',\n",
       "       '7', '8', '9', \"item_''\", 'item_,', 'item_dot', 'item_ques',\n",
       "       '\\xe0\\xb4\\x85', '\\xe0\\xb4\\x86', '\\xe0\\xb4\\x87', '\\xe0\\xb4\\x89',\n",
       "       '\\xe0\\xb4\\x8b', '\\xe0\\xb4\\x8e', '\\xe0\\xb4\\x8f', '\\xe0\\xb4\\x92',\n",
       "       '\\xe0\\xb4\\x95', '\\xe0\\xb4\\x95\\xe0\\xb5\\x8d\\xe0\\xb4\\x95',\n",
       "       '\\xe0\\xb4\\x95\\xe0\\xb5\\x8d\\xe0\\xb4\\xa4',\n",
       "       '\\xe0\\xb4\\x95\\xe0\\xb5\\x8d\\xe0\\xb4\\xb7', '\\xe0\\xb4\\x96',\n",
       "       '\\xe0\\xb4\\x97', '\\xe0\\xb4\\x97\\xe0\\xb5\\x8d\\xe0\\xb4\\x97',\n",
       "       '\\xe0\\xb4\\x97\\xe0\\xb5\\x8d\\xe0\\xb4\\xa8',\n",
       "       '\\xe0\\xb4\\x97\\xe0\\xb5\\x8d\\xe0\\xb4\\xae',\n",
       "       '\\xe0\\xb4\\x97\\xe0\\xb5\\x8d\\xe0\\xb4\\xb2', '\\xe0\\xb4\\x98',\n",
       "       '\\xe0\\xb4\\x99', '\\xe0\\xb4\\x99\\xe0\\xb5\\x8d\\xe0\\xb4\\x95',\n",
       "       '\\xe0\\xb4\\x99\\xe0\\xb5\\x8d\\xe0\\xb4\\x99', '\\xe0\\xb4\\x9a',\n",
       "       '\\xe0\\xb4\\x9a\\xe0\\xb5\\x8d\\xe0\\xb4\\x9a',\n",
       "       '\\xe0\\xb4\\x9a\\xe0\\xb5\\x8d\\xe0\\xb4\\x9b', '\\xe0\\xb4\\x9b',\n",
       "       '\\xe0\\xb4\\x9c', '\\xe0\\xb4\\x9c\\xe0\\xb5\\x8d\\xe0\\xb4\\x9c',\n",
       "       '\\xe0\\xb4\\x9c\\xe0\\xb5\\x8d\\xe0\\xb4\\x9e', '\\xe0\\xb4\\x9d',\n",
       "       '\\xe0\\xb4\\x9e', '\\xe0\\xb4\\x9e\\xe0\\xb5\\x8d\\xe0\\xb4\\x9a',\n",
       "       '\\xe0\\xb4\\x9e\\xe0\\xb5\\x8d\\xe0\\xb4\\x9e', '\\xe0\\xb4\\x9f',\n",
       "       '\\xe0\\xb4\\x9f\\xe0\\xb5\\x8d\\xe0\\xb4\\x9f', '\\xe0\\xb4\\xa0',\n",
       "       '\\xe0\\xb4\\xa1', '\\xe0\\xb4\\xa2', '\\xe0\\xb4\\xa3',\n",
       "       '\\xe0\\xb4\\xa3\\xe0\\xb5\\x8d\\xe0\\xb4\\x9f',\n",
       "       '\\xe0\\xb4\\xa3\\xe0\\xb5\\x8d\\xe0\\xb4\\xa1',\n",
       "       '\\xe0\\xb4\\xa3\\xe0\\xb5\\x8d\\xe0\\xb4\\xa3',\n",
       "       '\\xe0\\xb4\\xa3\\xe0\\xb5\\x8d\\xe0\\xb4\\xae', '\\xe0\\xb4\\xa4',\n",
       "       '\\xe0\\xb4\\xa4\\xe0\\xb5\\x8d\\xe0\\xb4\\xa4',\n",
       "       '\\xe0\\xb4\\xa4\\xe0\\xb5\\x8d\\xe0\\xb4\\xa5',\n",
       "       '\\xe0\\xb4\\xa4\\xe0\\xb5\\x8d\\xe0\\xb4\\xa8',\n",
       "       '\\xe0\\xb4\\xa4\\xe0\\xb5\\x8d\\xe0\\xb4\\xad',\n",
       "       '\\xe0\\xb4\\xa4\\xe0\\xb5\\x8d\\xe0\\xb4\\xae',\n",
       "       '\\xe0\\xb4\\xa4\\xe0\\xb5\\x8d\\xe0\\xb4\\xb8', '\\xe0\\xb4\\xa5',\n",
       "       '\\xe0\\xb4\\xa6', '\\xe0\\xb4\\xa6\\xe0\\xb5\\x8d\\xe0\\xb4\\xa6',\n",
       "       '\\xe0\\xb4\\xa6\\xe0\\xb5\\x8d\\xe0\\xb4\\xa7', '\\xe0\\xb4\\xa7',\n",
       "       '\\xe0\\xb4\\xa8', '\\xe0\\xb4\\xa8\\xe0\\xb5\\x8d\\xe0\\xb4\\xa4',\n",
       "       '\\xe0\\xb4\\xa8\\xe0\\xb5\\x8d\\xe0\\xb4\\xa5',\n",
       "       '\\xe0\\xb4\\xa8\\xe0\\xb5\\x8d\\xe0\\xb4\\xa6',\n",
       "       '\\xe0\\xb4\\xa8\\xe0\\xb5\\x8d\\xe0\\xb4\\xa7',\n",
       "       '\\xe0\\xb4\\xa8\\xe0\\xb5\\x8d\\xe0\\xb4\\xa8',\n",
       "       '\\xe0\\xb4\\xa8\\xe0\\xb5\\x8d\\xe0\\xb4\\xae',\n",
       "       '\\xe0\\xb4\\xa8\\xe0\\xb5\\x8d\\xe0\\xb4\\xb1', '\\xe0\\xb4\\xaa',\n",
       "       '\\xe0\\xb4\\xaa\\xe0\\xb5\\x8d\\xe0\\xb4\\xaa', '\\xe0\\xb4\\xab',\n",
       "       '\\xe0\\xb4\\xac', '\\xe0\\xb4\\xac\\xe0\\xb5\\x8d\\xe0\\xb4\\xac',\n",
       "       '\\xe0\\xb4\\xad', '\\xe0\\xb4\\xae',\n",
       "       '\\xe0\\xb4\\xae\\xe0\\xb5\\x8d\\xe0\\xb4\\xaa',\n",
       "       '\\xe0\\xb4\\xae\\xe0\\xb5\\x8d\\xe0\\xb4\\xae',\n",
       "       '\\xe0\\xb4\\xae\\xe0\\xb5\\x8d\\xe0\\xb4\\xb2', '\\xe0\\xb4\\xaf',\n",
       "       '\\xe0\\xb4\\xaf\\xe0\\xb5\\x8d\\xe0\\xb4\\xaf', '\\xe0\\xb4\\xb0',\n",
       "       '\\xe0\\xb4\\xb1', '\\xe0\\xb4\\xb1\\xe0\\xb5\\x8d\\xe0\\xb4\\xb1',\n",
       "       '\\xe0\\xb4\\xb1\\xe0\\xb5\\x8d\\xe0\\xb4\\xb12', '\\xe0\\xb4\\xb2',\n",
       "       '\\xe0\\xb4\\xb2\\xe0\\xb5\\x8d\\xe0\\xb4\\xb2', '\\xe0\\xb4\\xb3',\n",
       "       '\\xe0\\xb4\\xb3\\xe0\\xb5\\x8d\\xe0\\xb4\\xb3', '\\xe0\\xb4\\xb4',\n",
       "       '\\xe0\\xb4\\xb5', '\\xe0\\xb4\\xb5\\xe0\\xb5\\x8d\\xe0\\xb4\\xb5',\n",
       "       '\\xe0\\xb4\\xb6', '\\xe0\\xb4\\xb6\\xe0\\xb5\\x8d\\xe0\\xb4\\x9a',\n",
       "       '\\xe0\\xb4\\xb7', '\\xe0\\xb4\\xb8',\n",
       "       '\\xe0\\xb4\\xb8\\xe0\\xb5\\x8d\\xe0\\xb4\\xa5', '\\xe0\\xb4\\xb9',\n",
       "       '\\xe0\\xb4\\xb9\\xe0\\xb5\\x8d\\xe0\\xb4\\xa8',\n",
       "       '\\xe0\\xb4\\xb9\\xe0\\xb5\\x8d\\xe0\\xb4\\xae', '\\xe0\\xb4\\xbe',\n",
       "       '\\xe0\\xb4\\xbf', '\\xe0\\xb5\\x80', '\\xe0\\xb5\\x81', '\\xe0\\xb5\\x82',\n",
       "       '\\xe0\\xb5\\x83', '\\xe0\\xb5\\x86', '\\xe0\\xb5\\x87', '\\xe0\\xb5\\x8d',\n",
       "       '\\xe0\\xb5\\x8d\\xe0\\xb4\\xaf', '\\xe0\\xb5\\x8d\\xe0\\xb4\\xb0',\n",
       "       '\\xe0\\xb5\\x8d\\xe0\\xb4\\xb5', '\\xe0\\xb5\\x97', '\\xe0\\xb5\\xba',\n",
       "       '\\xe0\\xb5\\xbb', '\\xe0\\xb5\\xbc', '\\xe0\\xb5\\xbd', '\\xe0\\xb5\\xbe',\n",
       "       '\\xe0\\xb5\\xbe2'],\n",
       "      dtype='|S10')"
      ]
     },
     "execution_count": 17,
     "metadata": {},
     "output_type": "execute_result"
    }
   ],
   "source": [
    "classList"
   ]
  },
  {
   "cell_type": "code",
   "execution_count": 18,
   "metadata": {
    "collapsed": true
   },
   "outputs": [],
   "source": [
    "import matplotlib.pyplot as plt\n",
    "def plots(ims, figsize=(12,6), rows=1, interp=False, titles=None):\n",
    "    if type(ims[0]) is np.ndarray:\n",
    "        ims = np.array(ims).astype(np.uint8)\n",
    "        if (ims.shape[-1] != 3):\n",
    "            ims = ims.transpose((0,2,3,1))\n",
    "    f = plt.figure(figsize=figsize)\n",
    "    for i in range(len(ims)):\n",
    "        sp = f.add_subplot(rows, len(ims)//rows, i+1)\n",
    "        sp.axis('Off')\n",
    "        if titles is not None:\n",
    "            sp.set_title(titles[i].decode('utf-8'), fontsize=16)\n",
    "        plt.imshow(ims[i], interpolation=None if interp else 'none')"
   ]
  },
  {
   "cell_type": "code",
   "execution_count": 19,
   "metadata": {
    "collapsed": true
   },
   "outputs": [],
   "source": [
    "def plots_idx(idx, titles=None):\n",
    "    plots([image.array_to_img((X_test[i].reshape(32,32,1))) for i in idx], titles=titles)\n",
    "n_view=4"
   ]
  },
  {
   "cell_type": "code",
   "execution_count": 20,
   "metadata": {
    "collapsed": true
   },
   "outputs": [],
   "source": [
    "def samplePrediction():\n",
    "    random_images = np.random.randint(0,X_test.shape[0],4)\n",
    "    class_labels = classList[predicted_classes][random_images]\n",
    "    plots_idx(random_images)\n",
    "    for x in class_labels:\n",
    "        print x.decode('utf-8'),"
   ]
  },
  {
   "cell_type": "code",
   "execution_count": 26,
   "metadata": {},
   "outputs": [
    {
     "name": "stdout",
     "output_type": "stream",
     "text": [
      "ല്ല ഝ ീ '\n"
     ]
    },
    {
     "data": {
      "image/png": "[encoded data removed]",
      "text/plain": [
       "<matplotlib.figure.Figure at 0x7f7a930f9ed0>"
      ]
     },
     "metadata": {},
     "output_type": "display_data"
    }
   ],
   "source": [
    "samplePrediction()"
   ]
  },
  {
   "cell_type": "code",
   "execution_count": null,
   "metadata": {
    "collapsed": true
   },
   "outputs": [],
   "source": []
  },
  {
   "cell_type": "code",
   "execution_count": null,
   "metadata": {
    "collapsed": true
   },
   "outputs": [],
   "source": []
  }
 ],
 "metadata": {
  "kernelspec": {
   "display_name": "Python 2",
   "language": "python",
   "name": "python2"
  },
  "language_info": {
   "codemirror_mode": {
    "name": "ipython",
    "version": 2
   },
   "file_extension": ".py",
   "mimetype": "text/x-python",
   "name": "python",
   "nbconvert_exporter": "python",
   "pygments_lexer": "ipython2",
   "version": "2.7.13"
  }
 },
 "nbformat": 4,
 "nbformat_minor": 2
}
