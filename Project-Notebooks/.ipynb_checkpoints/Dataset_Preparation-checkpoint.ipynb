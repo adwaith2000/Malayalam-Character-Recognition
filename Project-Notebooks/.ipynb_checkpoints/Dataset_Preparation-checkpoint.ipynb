{
 "cells": [
  {
   "cell_type": "markdown",
   "metadata": {},
   "source": [
    "## Preparing the Dataset\n",
    "\n",
    "Converting all the Images into 32X32 Grayscale Images and saving them into numpy format"
   ]
  },
  {
   "cell_type": "code",
   "execution_count": 29,
   "metadata": {
    "collapsed": true
   },
   "outputs": [],
   "source": [
    "import numpy as np\n",
    "import cv2\n",
    "import glob\n",
    "import os\n",
    "import codecs\n",
    "import matplotlib.pyplot as plt"
   ]
  },
  {
   "cell_type": "code",
   "execution_count": 3,
   "metadata": {
    "collapsed": true
   },
   "outputs": [],
   "source": [
    "#This fetches all the folders in the lekha-ocr-database/train_images folder \n",
    "def returnFolders(path):\n",
    "    \n",
    "    folders = [ f for f in os.listdir(path) ]\n",
    "        \n",
    "    print \"Found {} folders\".format(len(folders))\n",
    "    \n",
    "    return folders"
   ]
  },
  {
   "cell_type": "code",
   "execution_count": 43,
   "metadata": {
    "collapsed": true
   },
   "outputs": [],
   "source": [
    "def preprocessImage(image):\n",
    "    #Does Adaptive Gaussian Thresholding (See sudoku image in documentation for understanding)\n",
    "    adaptiveGThreshold = cv2.adaptiveThreshold(image,255,cv2.ADAPTIVE_THRESH_GAUSSIAN_C,cv2.THRESH_BINARY,11,2)\n",
    "    retVal,thresholded_img = cv2.threshold(adaptiveGThreshold,127,255,cv2.THRESH_BINARY)\n",
    "    img = cv2.resize(thresholded_img,(32,32),interpolation = cv2.INTER_CUBIC)\n",
    "    return img"
   ]
  },
  {
   "cell_type": "code",
   "execution_count": 19,
   "metadata": {
    "collapsed": true
   },
   "outputs": [],
   "source": [
    "def getImagesInFolder(imageFolder):\n",
    "    \n",
    "    image_paths = glob.glob(imageFolder+'*.png')\n",
    "    image_label = imageFolder.split('/')[-2]\n",
    "    len_images = len(image_paths)\n",
    "    print \"Found {} Images of Label {}\".format(len_images,image_label)\n",
    "    \n",
    "    input_images = [ cv2.imread(img,0) for img in image_paths ]\n",
    "    input_images = [ preprocessImage(img) for img in input_images ]\n",
    "    \n",
    "    labels =  [ image_label for img in input_images ]\n",
    "    \n",
    "    images,labels =  np.array(input_images),np.array(labels)\n",
    "    \n",
    "    return images,labels"
   ]
  },
  {
   "cell_type": "code",
   "execution_count": 20,
   "metadata": {
    "collapsed": true
   },
   "outputs": [],
   "source": [
    "def prepareDataset(path):\n",
    "    trainX = None\n",
    "    trainy = None\n",
    "    \n",
    "    folders =  returnFolders(path)\n",
    "    for f in folders:\n",
    "        imageFolder = path+str(f)+'/'\n",
    "        images,labels = getImagesInFolder(imageFolder)\n",
    "        \n",
    "        if trainX is None:\n",
    "            trainX = images\n",
    "        else:\n",
    "            trainX = np.append(trainX,images,axis = 0)\n",
    "        \n",
    "        if trainy is None:\n",
    "            trainy = labels\n",
    "        else:\n",
    "            trainy = np.append(trainy,labels,axis=0)\n",
    "            \n",
    "    print \"TrainX Shape: \",trainX.shape\n",
    "    print \"Trainy Shape: \",trainy.shape\n",
    "    return trainX,trainy"
   ]
  },
  {
   "cell_type": "code",
   "execution_count": 21,
   "metadata": {
    "collapsed": true
   },
   "outputs": [],
   "source": [
    "def saveNumpyArrays(trainX,trainy):\n",
    "    np.save('NP-Dataset/X.npy',trainX)\n",
    "    np.save('NP-Dataset/y.npy',trainy)\n",
    "    print \"Saved Numpy Arrays to NP-Dataset/\"\n",
    "    return"
   ]
  },
  {
   "cell_type": "code",
   "execution_count": 7,
   "metadata": {},
   "outputs": [
    {
     "name": "stdout",
     "output_type": "stream",
     "text": [
      "Found 133 folders\n",
      "Found 86 Images of Label ്വ\n",
      "Found 349 Images of Label ധ\n",
      "Found 141 Images of Label ഏ\n",
      "Found 76 Images of Label ൺ\n",
      "Found 157 Images of Label ങ്ക\n",
      "Found 470 Images of Label ശ\n",
      "Found 350 Images of Label ബ\n",
      "Found 252 Images of Label ൗ\n",
      "Found 333 Images of Label ീ\n",
      "Found 683 Images of Label ക\n",
      "Found 3 Images of Label ഹ്മ\n",
      "Found 582 Images of Label മ\n",
      "Found 271 Images of Label ഉ\n",
      "Found 150 Images of Label '2\n",
      "Found 490 Images of Label ഇ\n",
      "Found 65 Images of Label സ്ഥ\n",
      "Found 352 Images of Label ജ\n",
      "Found 147 Images of Label 3\n",
      "Found 6 Images of Label ഗ്ന\n",
      "Found 132 Images of Label ഘ\n",
      "Found 439 Images of Label ച\n",
      "Found 238 Images of Label (\n",
      "Found 387 Images of Label ഗ\n",
      "Found 127 Images of Label ദ്ദ\n",
      "Found 13 Images of Label +\n",
      "Found 427 Images of Label ണ്ട\n",
      "Found 537 Images of Label ർ\n",
      "Found 226 Images of Label ഞ്ഞ\n",
      "Found 543 Images of Label ു\n",
      "Found 4 Images of Label ബ്ബ\n",
      "Found 258 Images of Label ന്ത\n",
      "Found 7 Images of Label വ്വ\n",
      "Found 521 Images of Label ൽ\n",
      "Found 299 Images of Label ള്ള\n",
      "Found 590 Images of Label ള\n",
      "Found 4 Images of Label മ്ല\n",
      "Found 162 Images of Label ഖ\n",
      "Found 157 Images of Label ൾ2\n",
      "Found 524 Images of Label ന്ന\n",
      "Found 131 Images of Label 1\n",
      "Found 48 Images of Label ത്സ\n",
      "Found 389 Images of Label ച്ച\n",
      "Found 110 Images of Label 4\n",
      "Found 135 Images of Label ൃ\n",
      "Found 55 Images of Label ഞ്ച\n",
      "Found 417 Images of Label ൻ\n",
      "Found 190 Images of Label item_dot\n",
      "Found 110 Images of Label ന്ദ\n",
      "Found 324 Images of Label ല്ല\n",
      "Found 52 Images of Label ഋ\n",
      "Found 312 Images of Label ൾ\n",
      "Found 3 Images of Label item_''\n",
      "Found 101 Images of Label ന്ധ\n",
      "Found 139 Images of Label മ്പ\n",
      "Found 541 Images of Label ത്ത\n",
      "Found 274 Images of Label ൂ\n",
      "Found 74 Images of Label -\n",
      "Found 397 Images of Label ്യ\n",
      "Found 142 Images of Label 6\n",
      "Found 210 Images of Label റ്റ\n",
      "Found 10 Images of Label ജ്ഞ\n",
      "Found 44 Images of Label ങ\n",
      "Found 24 Images of Label ഹ്ന\n",
      "Found 188 Images of Label 0\n",
      "Found 380 Images of Label ഹ\n",
      "Found 202 Images of Label ഡ\n",
      "Found 572 Images of Label വ\n",
      "Found 395 Images of Label ഷ\n",
      "Found 6 Images of Label ത്ന\n",
      "Found 345 Images of Label ഴ\n",
      "Found 19 Images of Label റ്റ2\n",
      "Found 56 Images of Label ന്മ\n",
      "Found 472 Images of Label ഠ\n",
      "Found 9 Images of Label ത്ഭ\n",
      "Found 226 Images of Label 9\n",
      "Found 42 Images of Label ഢ\n",
      "Found 630 Images of Label യ\n",
      "Found 531 Images of Label ല\n",
      "Found 6 Images of Label ജ്ജ\n",
      "Found 67 Images of Label ണ്ണ\n",
      "Found 9 Images of Label ഗ്ല\n",
      "Found 357 Images of Label ഭ\n",
      "Found 11 Images of Label ണ്മ\n",
      "Found 524 Images of Label റ\n",
      "Found 525 Images of Label എ\n",
      "Found 556 Images of Label ണ\n",
      "Found 14 Images of Label ശ്ച\n",
      "Found 31 Images of Label ണ്ഡ\n",
      "Found 217 Images of Label )\n",
      "Found 520 Images of Label പ\n",
      "Found 167 Images of Label ഫ\n",
      "Found 576 Images of Label ര\n",
      "Found 409 Images of Label പ്പ\n",
      "Found 6 Images of Label ഗ്മ\n",
      "Found 524 Images of Label അ\n",
      "Found 8 Images of Label ന്ഥ\n",
      "Found 7 Images of Label ഗ്ഗ\n",
      "Found 393 Images of Label '\n",
      "Found 46 Images of Label ഝ\n",
      "Found 591 Images of Label ്\n",
      "Found 174 Images of Label ഞ\n",
      "Found 45 Images of Label ഛ\n",
      "Found 537 Images of Label ന\n",
      "Found 476 Images of Label item_ques\n",
      "Found 150 Images of Label 2\n",
      "Found 109 Images of Label 5\n",
      "Found 75 Images of Label യ്യ\n",
      "Found 577 Images of Label െ\n",
      "Found 589 Images of Label ക്ക\n",
      "Found 16 Images of Label ത്മ\n",
      "Found 224 Images of Label 7\n",
      "Found 245 Images of Label item_,\n",
      "Found 223 Images of Label ക്ഷ\n",
      "Found 434 Images of Label ഒ\n",
      "Found 553 Images of Label േ\n",
      "Found 573 Images of Label ാ\n",
      "Found 561 Images of Label ി\n",
      "Found 223 Images of Label ന്റ\n",
      "Found 403 Images of Label ആ\n",
      "Found 148 Images of Label ഥ\n",
      "Found 77 Images of Label ക്ത\n",
      "Found 562 Images of Label സ\n",
      "Found 121 Images of Label മ്മ\n",
      "Found 198 Images of Label 8\n",
      "Found 434 Images of Label ദ\n",
      "Found 244 Images of Label ്ര\n",
      "Found 109 Images of Label ദ്ധ\n",
      "Found 14 Images of Label ച്ഛ\n",
      "Found 440 Images of Label ങ്ങ\n",
      "Found 57 Images of Label ത്ഥ\n",
      "Found 575 Images of Label ത\n",
      "Found 509 Images of Label ട\n",
      "Found 473 Images of Label ട്ട\n",
      "TrainX Shape:  (34575, 32, 32)\n",
      "Trainy Shape:  (34575,)\n"
     ]
    }
   ],
   "source": [
    "trainX,trainy = prepareDataset(\"/home/amrith/Machine-Learning/MalayalamOCR/IN/\")"
   ]
  },
  {
   "cell_type": "code",
   "execution_count": 9,
   "metadata": {},
   "outputs": [
    {
     "name": "stdout",
     "output_type": "stream",
     "text": [
      "Saved Numpy Arrays to NP-Dataset/\n"
     ]
    }
   ],
   "source": [
    "saveNumpyArrays(trainX,trainy)"
   ]
  },
  {
   "cell_type": "code",
   "execution_count": 15,
   "metadata": {
    "collapsed": true
   },
   "outputs": [],
   "source": [
    "def getShape():\n",
    "    return trainX.shape,trainy.shape"
   ]
  }
 ],
 "metadata": {
  "kernelspec": {
   "display_name": "Python 2",
   "language": "python",
   "name": "python2"
  },
  "language_info": {
   "codemirror_mode": {
    "name": "ipython",
    "version": 2
   },
   "file_extension": ".py",
   "mimetype": "text/x-python",
   "name": "python",
   "nbconvert_exporter": "python",
   "pygments_lexer": "ipython2",
   "version": "2.7.13"
  }
 },
 "nbformat": 4,
 "nbformat_minor": 2
}
